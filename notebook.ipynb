{
 "cells": [
  {
   "cell_type": "code",
   "execution_count": null,
   "metadata": {
    "_cell_guid": "b1076dfc-b9ad-4769-8c92-a6c4dae69d19",
    "_uuid": "8f2839f25d086af736a60e9eeb907d3b93b6e0e5",
    "execution": {
     "iopub.execute_input": "2025-06-16T13:55:44.125026Z",
     "iopub.status.busy": "2025-06-16T13:55:44.124711Z",
     "iopub.status.idle": "2025-06-16T13:55:44.132723Z",
     "shell.execute_reply": "2025-06-16T13:55:44.131774Z",
     "shell.execute_reply.started": "2025-06-16T13:55:44.125003Z"
    },
    "trusted": true
   },
   "outputs": [],
   "source": [
    "import numpy as np \n",
    "import pandas as pd\n",
    "\n",
    "import os\n",
    "for dirname, _, filenames in os.walk('/kaggle/input'):\n",
    "    for filename in filenames:\n",
    "        print(os.path.join(dirname, filename))"
   ]
  },
  {
   "cell_type": "code",
   "execution_count": null,
   "metadata": {
    "execution": {
     "iopub.execute_input": "2025-06-16T13:55:44.134879Z",
     "iopub.status.busy": "2025-06-16T13:55:44.134235Z",
     "iopub.status.idle": "2025-06-16T13:55:44.528224Z",
     "shell.execute_reply": "2025-06-16T13:55:44.527491Z",
     "shell.execute_reply.started": "2025-06-16T13:55:44.134853Z"
    },
    "trusted": true
   },
   "outputs": [],
   "source": [
    "import pandas as pd\n",
    "df=pd.read_csv('/kaggle/input/flight-price-prediction/Clean_Dataset.csv')\n",
    "df.head()"
   ]
  },
  {
   "cell_type": "code",
   "execution_count": null,
   "metadata": {
    "execution": {
     "iopub.execute_input": "2025-06-16T13:55:44.529660Z",
     "iopub.status.busy": "2025-06-16T13:55:44.529368Z",
     "iopub.status.idle": "2025-06-16T13:55:44.659344Z",
     "shell.execute_reply": "2025-06-16T13:55:44.658540Z",
     "shell.execute_reply.started": "2025-06-16T13:55:44.529639Z"
    },
    "trusted": true
   },
   "outputs": [],
   "source": [
    "df.isnull().sum()"
   ]
  },
  {
   "cell_type": "code",
   "execution_count": null,
   "metadata": {
    "execution": {
     "iopub.execute_input": "2025-06-16T13:55:44.660644Z",
     "iopub.status.busy": "2025-06-16T13:55:44.660328Z",
     "iopub.status.idle": "2025-06-16T13:55:44.688991Z",
     "shell.execute_reply": "2025-06-16T13:55:44.688160Z",
     "shell.execute_reply.started": "2025-06-16T13:55:44.660614Z"
    },
    "trusted": true
   },
   "outputs": [],
   "source": [
    "df.airline.value_counts()"
   ]
  },
  {
   "cell_type": "code",
   "execution_count": null,
   "metadata": {
    "execution": {
     "iopub.execute_input": "2025-06-16T13:55:44.691210Z",
     "iopub.status.busy": "2025-06-16T13:55:44.690964Z",
     "iopub.status.idle": "2025-06-16T13:55:44.724943Z",
     "shell.execute_reply": "2025-06-16T13:55:44.724212Z",
     "shell.execute_reply.started": "2025-06-16T13:55:44.691191Z"
    },
    "trusted": true
   },
   "outputs": [],
   "source": [
    "df.source_city.value_counts()"
   ]
  },
  {
   "cell_type": "code",
   "execution_count": null,
   "metadata": {
    "execution": {
     "iopub.execute_input": "2025-06-16T13:55:44.726272Z",
     "iopub.status.busy": "2025-06-16T13:55:44.725822Z",
     "iopub.status.idle": "2025-06-16T13:55:44.763105Z",
     "shell.execute_reply": "2025-06-16T13:55:44.762370Z",
     "shell.execute_reply.started": "2025-06-16T13:55:44.726243Z"
    },
    "trusted": true
   },
   "outputs": [],
   "source": [
    "df.destination_city.value_counts()"
   ]
  },
  {
   "cell_type": "code",
   "execution_count": null,
   "metadata": {
    "execution": {
     "iopub.execute_input": "2025-06-16T13:55:44.764544Z",
     "iopub.status.busy": "2025-06-16T13:55:44.764220Z",
     "iopub.status.idle": "2025-06-16T13:55:44.802958Z",
     "shell.execute_reply": "2025-06-16T13:55:44.802235Z",
     "shell.execute_reply.started": "2025-06-16T13:55:44.764519Z"
    },
    "trusted": true
   },
   "outputs": [],
   "source": [
    "df.departure_time.value_counts()"
   ]
  },
  {
   "cell_type": "code",
   "execution_count": null,
   "metadata": {
    "execution": {
     "iopub.execute_input": "2025-06-16T13:55:44.803961Z",
     "iopub.status.busy": "2025-06-16T13:55:44.803730Z",
     "iopub.status.idle": "2025-06-16T13:55:44.843230Z",
     "shell.execute_reply": "2025-06-16T13:55:44.842506Z",
     "shell.execute_reply.started": "2025-06-16T13:55:44.803941Z"
    },
    "trusted": true
   },
   "outputs": [],
   "source": [
    "df.arrival_time.value_counts()"
   ]
  },
  {
   "cell_type": "code",
   "execution_count": null,
   "metadata": {
    "execution": {
     "iopub.execute_input": "2025-06-16T13:55:44.844498Z",
     "iopub.status.busy": "2025-06-16T13:55:44.844153Z",
     "iopub.status.idle": "2025-06-16T13:55:44.882870Z",
     "shell.execute_reply": "2025-06-16T13:55:44.882061Z",
     "shell.execute_reply.started": "2025-06-16T13:55:44.844427Z"
    },
    "trusted": true
   },
   "outputs": [],
   "source": [
    "df.stops.value_counts()"
   ]
  },
  {
   "cell_type": "code",
   "execution_count": null,
   "metadata": {
    "execution": {
     "iopub.execute_input": "2025-06-16T13:55:44.883928Z",
     "iopub.status.busy": "2025-06-16T13:55:44.883703Z",
     "iopub.status.idle": "2025-06-16T13:55:44.918941Z",
     "shell.execute_reply": "2025-06-16T13:55:44.918085Z",
     "shell.execute_reply.started": "2025-06-16T13:55:44.883895Z"
    },
    "trusted": true
   },
   "outputs": [],
   "source": [
    "df['class'].value_counts()"
   ]
  },
  {
   "cell_type": "code",
   "execution_count": null,
   "metadata": {
    "execution": {
     "iopub.execute_input": "2025-06-16T13:55:44.922704Z",
     "iopub.status.busy": "2025-06-16T13:55:44.922156Z",
     "iopub.status.idle": "2025-06-16T13:55:44.941615Z",
     "shell.execute_reply": "2025-06-16T13:55:44.940642Z",
     "shell.execute_reply.started": "2025-06-16T13:55:44.922681Z"
    },
    "trusted": true
   },
   "outputs": [],
   "source": [
    "df['duration'].value_counts()"
   ]
  },
  {
   "cell_type": "code",
   "execution_count": null,
   "metadata": {
    "execution": {
     "iopub.execute_input": "2025-06-16T13:55:44.943615Z",
     "iopub.status.busy": "2025-06-16T13:55:44.942616Z",
     "iopub.status.idle": "2025-06-16T13:55:44.970634Z",
     "shell.execute_reply": "2025-06-16T13:55:44.969871Z",
     "shell.execute_reply.started": "2025-06-16T13:55:44.943586Z"
    },
    "trusted": true
   },
   "outputs": [],
   "source": [
    "print(df['duration'].describe())\n"
   ]
  },
  {
   "cell_type": "markdown",
   "metadata": {},
   "source": [
    "**Pre Processing**\n",
    "* drop unnamed, flight\n",
    "* hot encode airline, source & dest city, arrival & dep time\n",
    "* turn stops into 0,1,2\n",
    "* turn  class into 0,1"
   ]
  },
  {
   "cell_type": "code",
   "execution_count": null,
   "metadata": {
    "execution": {
     "iopub.execute_input": "2025-06-16T13:55:44.971576Z",
     "iopub.status.busy": "2025-06-16T13:55:44.971331Z",
     "iopub.status.idle": "2025-06-16T13:55:45.119908Z",
     "shell.execute_reply": "2025-06-16T13:55:45.119206Z",
     "shell.execute_reply.started": "2025-06-16T13:55:44.971556Z"
    },
    "trusted": true
   },
   "outputs": [],
   "source": [
    "df = df.drop('Unnamed: 0', axis=1)\n",
    "df = df.drop('flight', axis=1)\n",
    "\n",
    "df['class'] = df['class'].apply(lambda x:1 if x== 'Business' else 0)"
   ]
  },
  {
   "cell_type": "code",
   "execution_count": null,
   "metadata": {
    "execution": {
     "iopub.execute_input": "2025-06-16T13:55:45.120939Z",
     "iopub.status.busy": "2025-06-16T13:55:45.120693Z",
     "iopub.status.idle": "2025-06-16T13:55:45.140089Z",
     "shell.execute_reply": "2025-06-16T13:55:45.139333Z",
     "shell.execute_reply.started": "2025-06-16T13:55:45.120919Z"
    },
    "trusted": true
   },
   "outputs": [],
   "source": [
    "df.stops = pd.factorize(df.stops)[0]"
   ]
  },
  {
   "cell_type": "code",
   "execution_count": null,
   "metadata": {
    "execution": {
     "iopub.execute_input": "2025-06-16T13:55:45.141159Z",
     "iopub.status.busy": "2025-06-16T13:55:45.140928Z",
     "iopub.status.idle": "2025-06-16T13:55:45.392430Z",
     "shell.execute_reply": "2025-06-16T13:55:45.391766Z",
     "shell.execute_reply.started": "2025-06-16T13:55:45.141134Z"
    },
    "trusted": true
   },
   "outputs": [],
   "source": [
    "df = df.join(pd.get_dummies(df.airline, prefix = 'airline')).drop('airline', axis =1)\n",
    "df = df.join(pd.get_dummies(df.source_city, prefix = 'source')).drop('source_city', axis =1)\n",
    "df = df.join(pd.get_dummies(df.destination_city, prefix = 'dest')).drop('destination_city', axis =1)\n",
    "df = df.join(pd.get_dummies(df.arrival_time, prefix = 'arrival')).drop('arrival_time', axis =1)\n",
    "df = df.join(pd.get_dummies(df.departure_time, prefix = 'departure')).drop('departure_time', axis =1)"
   ]
  },
  {
   "cell_type": "code",
   "execution_count": null,
   "metadata": {
    "execution": {
     "iopub.execute_input": "2025-06-16T13:55:45.393786Z",
     "iopub.status.busy": "2025-06-16T13:55:45.393547Z",
     "iopub.status.idle": "2025-06-16T13:55:45.433876Z",
     "shell.execute_reply": "2025-06-16T13:55:45.432995Z",
     "shell.execute_reply.started": "2025-06-16T13:55:45.393766Z"
    },
    "trusted": true
   },
   "outputs": [],
   "source": [
    "df"
   ]
  },
  {
   "cell_type": "markdown",
   "metadata": {},
   "source": [
    "**Training Regression Model**"
   ]
  },
  {
   "cell_type": "code",
   "execution_count": null,
   "metadata": {
    "execution": {
     "iopub.execute_input": "2025-06-16T13:55:45.435071Z",
     "iopub.status.busy": "2025-06-16T13:55:45.434771Z",
     "iopub.status.idle": "2025-06-16T13:55:45.447910Z",
     "shell.execute_reply": "2025-06-16T13:55:45.447076Z",
     "shell.execute_reply.started": "2025-06-16T13:55:45.435043Z"
    },
    "trusted": true
   },
   "outputs": [],
   "source": [
    "from sklearn.ensemble import RandomForestRegressor\n",
    "from sklearn.model_selection import train_test_split\n",
    "\n",
    "X,y = df.drop('price', axis=1), df.price"
   ]
  },
  {
   "cell_type": "code",
   "execution_count": null,
   "metadata": {
    "execution": {
     "iopub.execute_input": "2025-06-16T13:55:45.449199Z",
     "iopub.status.busy": "2025-06-16T13:55:45.448956Z",
     "iopub.status.idle": "2025-06-16T13:55:45.496334Z",
     "shell.execute_reply": "2025-06-16T13:55:45.495724Z",
     "shell.execute_reply.started": "2025-06-16T13:55:45.449173Z"
    },
    "trusted": true
   },
   "outputs": [],
   "source": [
    "X_train, X_test, y_train, y_test = train_test_split(X, y, test_size = 0.2)"
   ]
  },
  {
   "cell_type": "code",
   "execution_count": null,
   "metadata": {
    "execution": {
     "iopub.execute_input": "2025-06-16T13:55:45.497309Z",
     "iopub.status.busy": "2025-06-16T13:55:45.497086Z",
     "iopub.status.idle": "2025-06-16T13:57:42.318366Z",
     "shell.execute_reply": "2025-06-16T13:57:42.317414Z",
     "shell.execute_reply.started": "2025-06-16T13:55:45.497290Z"
    },
    "trusted": true
   },
   "outputs": [],
   "source": [
    "reg = RandomForestRegressor()\n",
    "\n",
    "reg.fit(X_train, y_train)"
   ]
  },
  {
   "cell_type": "code",
   "execution_count": null,
   "metadata": {
    "execution": {
     "iopub.execute_input": "2025-06-16T13:57:42.319577Z",
     "iopub.status.busy": "2025-06-16T13:57:42.319305Z",
     "iopub.status.idle": "2025-06-16T13:57:44.820771Z",
     "shell.execute_reply": "2025-06-16T13:57:44.819600Z",
     "shell.execute_reply.started": "2025-06-16T13:57:42.319556Z"
    },
    "trusted": true
   },
   "outputs": [],
   "source": [
    "import math\n",
    "from sklearn.metrics import mean_squared_error, mean_absolute_error, r2_score\n",
    "# import absolute error to know how much we deviate from actual price\n",
    "\n",
    "y_pred = reg.predict(X_test)\n",
    "\n",
    "print('R2:', r2_score(y_test, y_pred))\n",
    "print('MEA:', mean_absolute_error(y_test, y_pred))\n",
    "print('MSE:', mean_squared_error(y_test, y_pred))\n",
    "print('RMSE:', math.sqrt(mean_squared_error(y_test, y_pred)))"
   ]
  },
  {
   "cell_type": "code",
   "execution_count": null,
   "metadata": {
    "execution": {
     "iopub.execute_input": "2025-06-16T13:57:44.821925Z",
     "iopub.status.busy": "2025-06-16T13:57:44.821576Z",
     "iopub.status.idle": "2025-06-16T13:57:45.270085Z",
     "shell.execute_reply": "2025-06-16T13:57:45.269045Z",
     "shell.execute_reply.started": "2025-06-16T13:57:44.821888Z"
    },
    "trusted": true
   },
   "outputs": [],
   "source": [
    "import matplotlib.pyplot as plt\n",
    "\n",
    "plt.scatter(y_test, y_pred)\n",
    "plt.xlabel('Actual Flight Price')\n",
    "plt.xlabel('Predicted Flight Price')\n",
    "plt.title('Actual vs Predicted Flight Prices')"
   ]
  },
  {
   "cell_type": "code",
   "execution_count": null,
   "metadata": {
    "execution": {
     "iopub.execute_input": "2025-06-16T13:57:45.271186Z",
     "iopub.status.busy": "2025-06-16T13:57:45.270919Z",
     "iopub.status.idle": "2025-06-16T13:57:45.285170Z",
     "shell.execute_reply": "2025-06-16T13:57:45.284370Z",
     "shell.execute_reply.started": "2025-06-16T13:57:45.271163Z"
    },
    "trusted": true
   },
   "outputs": [],
   "source": [
    "df.price.describe()"
   ]
  },
  {
   "cell_type": "markdown",
   "metadata": {},
   "source": [
    "**Refining the  model**"
   ]
  },
  {
   "cell_type": "markdown",
   "metadata": {},
   "source": [
    "Importance of features"
   ]
  },
  {
   "cell_type": "code",
   "execution_count": null,
   "metadata": {
    "execution": {
     "iopub.execute_input": "2025-06-16T13:57:45.286635Z",
     "iopub.status.busy": "2025-06-16T13:57:45.286066Z",
     "iopub.status.idle": "2025-06-16T13:57:45.455001Z",
     "shell.execute_reply": "2025-06-16T13:57:45.454044Z",
     "shell.execute_reply.started": "2025-06-16T13:57:45.286607Z"
    },
    "trusted": true
   },
   "outputs": [],
   "source": [
    "importances = dict(zip(reg.feature_names_in_, reg.feature_importances_))\n",
    "sorted_importances = sorted(importances.items(), key= lambda x: x[1], reverse=True)\n",
    "\n",
    "sorted_importances"
   ]
  },
  {
   "cell_type": "code",
   "execution_count": null,
   "metadata": {
    "execution": {
     "iopub.execute_input": "2025-06-16T13:57:45.456137Z",
     "iopub.status.busy": "2025-06-16T13:57:45.455896Z",
     "iopub.status.idle": "2025-06-16T13:57:45.469954Z",
     "shell.execute_reply": "2025-06-16T13:57:45.469078Z",
     "shell.execute_reply.started": "2025-06-16T13:57:45.456116Z"
    },
    "trusted": true
   },
   "outputs": [],
   "source": [
    "df.days_left.describe()"
   ]
  },
  {
   "cell_type": "code",
   "execution_count": null,
   "metadata": {
    "execution": {
     "iopub.execute_input": "2025-06-16T13:57:45.471130Z",
     "iopub.status.busy": "2025-06-16T13:57:45.470860Z",
     "iopub.status.idle": "2025-06-16T13:57:45.670339Z",
     "shell.execute_reply": "2025-06-16T13:57:45.669504Z",
     "shell.execute_reply.started": "2025-06-16T13:57:45.471110Z"
    },
    "trusted": true
   },
   "outputs": [],
   "source": [
    "plt.figure(figsize=(15,10))\n",
    "plt.bar([x[0] for x in sorted_importances[:10]], [x[1] for x in sorted_importances[:10]])"
   ]
  },
  {
   "cell_type": "code",
   "execution_count": null,
   "metadata": {
    "execution": {
     "iopub.execute_input": "2025-06-16T13:57:45.671700Z",
     "iopub.status.busy": "2025-06-16T13:57:45.671323Z",
     "iopub.status.idle": "2025-06-16T14:04:26.844591Z",
     "shell.execute_reply": "2025-06-16T14:04:26.843899Z",
     "shell.execute_reply.started": "2025-06-16T13:57:45.671679Z"
    },
    "trusted": true
   },
   "outputs": [],
   "source": [
    "from sklearn.model_selection import RandomizedSearchCV\n",
    "from scipy.stats import randint\n",
    "from sklearn.ensemble import RandomForestRegressor\n",
    "\n",
    "param_dist = {\n",
    "    'n_estimators': randint(100,300),\n",
    "    'max_depth': [None, 10, 20, 30, 40, 50],\n",
    "    'min_samples_split': randint(2,11),\n",
    "    'min_samples_leaf': randint(1,5),\n",
    "    'max_features': [1.0, 'sqrt']  \n",
    "}\n",
    "\n",
    "reg= RandomForestRegressor(n_jobs=-1)\n",
    "\n",
    "random_search = RandomizedSearchCV(estimator=reg, param_distributions=param_dist, n_iter=2, cv=3, scoring='neg_mean_squared_error', verbose=2, random_state=10, n_jobs=-1)\n",
    "random_search.fit(X_train, y_train)\n",
    "\n",
    "best_regressor = random_search.best_estimator_"
   ]
  },
  {
   "cell_type": "code",
   "execution_count": null,
   "metadata": {
    "execution": {
     "iopub.execute_input": "2025-06-16T14:08:07.056404Z",
     "iopub.status.busy": "2025-06-16T14:08:07.055790Z",
     "iopub.status.idle": "2025-06-16T14:08:08.831736Z",
     "shell.execute_reply": "2025-06-16T14:08:08.830959Z",
     "shell.execute_reply.started": "2025-06-16T14:08:07.056379Z"
    },
    "trusted": true
   },
   "outputs": [],
   "source": [
    "best_regressor.score(X_test, y_test)"
   ]
  },
  {
   "cell_type": "markdown",
   "metadata": {},
   "source": [
    "98.655% Accuracy"
   ]
  },
  {
   "cell_type": "code",
   "execution_count": null,
   "metadata": {
    "execution": {
     "iopub.execute_input": "2025-06-16T14:07:54.162195Z",
     "iopub.status.busy": "2025-06-16T14:07:54.161759Z",
     "iopub.status.idle": "2025-06-16T14:07:56.572156Z",
     "shell.execute_reply": "2025-06-16T14:07:56.571164Z",
     "shell.execute_reply.started": "2025-06-16T14:07:54.162163Z"
    },
    "trusted": true
   },
   "outputs": [],
   "source": [
    "import math\n",
    "from sklearn.metrics import mean_squared_error, mean_absolute_error, r2_score\n",
    "# import absolute error to know how much we deviate from actual price\n",
    "\n",
    "y_pred = best_regressor.predict(X_test)\n",
    "\n",
    "print('R2:', r2_score(y_test, y_pred))\n",
    "print('MEA:', mean_absolute_error(y_test, y_pred))\n",
    "print('MSE:', mean_squared_error(y_test, y_pred))\n",
    "print('RMSE:', math.sqrt(mean_squared_error(y_test, y_pred)))"
   ]
  },
  {
   "cell_type": "code",
   "execution_count": null,
   "metadata": {
    "execution": {
     "iopub.execute_input": "2025-06-16T14:08:36.277340Z",
     "iopub.status.busy": "2025-06-16T14:08:36.276981Z",
     "iopub.status.idle": "2025-06-16T14:08:36.723532Z",
     "shell.execute_reply": "2025-06-16T14:08:36.722780Z",
     "shell.execute_reply.started": "2025-06-16T14:08:36.277315Z"
    },
    "trusted": true
   },
   "outputs": [],
   "source": [
    "import matplotlib.pyplot as plt\n",
    "\n",
    "plt.scatter(y_test, y_pred)\n",
    "plt.xlabel('Actual Flight Price')\n",
    "plt.xlabel('Predicted Flight Price')\n",
    "plt.title('Actual vs Predicted Flight Prices')"
   ]
  }
 ],
 "metadata": {
  "kaggle": {
   "accelerator": "none",
   "dataSources": [
    {
     "datasetId": 1957837,
     "sourceId": 3228623,
     "sourceType": "datasetVersion"
    }
   ],
   "dockerImageVersionId": 31040,
   "isGpuEnabled": false,
   "isInternetEnabled": false,
   "language": "python",
   "sourceType": "notebook"
  },
  "kernelspec": {
   "display_name": "Python 3",
   "language": "python",
   "name": "python3"
  },
  "language_info": {
   "codemirror_mode": {
    "name": "ipython",
    "version": 3
   },
   "file_extension": ".py",
   "mimetype": "text/x-python",
   "name": "python",
   "nbconvert_exporter": "python",
   "pygments_lexer": "ipython3",
   "version": "3.11.11"
  }
 },
 "nbformat": 4,
 "nbformat_minor": 4
}
